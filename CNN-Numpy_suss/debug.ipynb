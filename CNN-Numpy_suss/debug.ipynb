{
 "cells": [
  {
   "cell_type": "code",
   "execution_count": 1,
   "metadata": {
    "collapsed": false
   },
   "outputs": [],
   "source": [
    "import numpy as np\n",
    "from scipy import signal\n",
    "import scipy.io as scio\n",
    "import sys\n",
    "sys.path.append('src/')\n",
    "from convnet import cnn\n",
    "import time"
   ]
  },
  {
   "cell_type": "code",
   "execution_count": 65,
   "metadata": {
    "collapsed": false
   },
   "outputs": [
    {
     "name": "stdout",
     "output_type": "stream",
     "text": [
      "[[[[ 1.  1.  1.]\n",
      "   [ 1.  1.  1.]\n",
      "   [ 1.  1.  1.]]\n",
      "\n",
      "  [[ 1.  4.  1.]\n",
      "   [ 1.  4.  1.]\n",
      "   [ 5.  4.  5.]]]\n",
      "\n",
      "\n",
      " [[[ 1.  1.  3.]\n",
      "   [ 2.  2.  3.]\n",
      "   [ 1.  1.  3.]]\n",
      "\n",
      "  [[ 1.  1.  1.]\n",
      "   [ 1.  1.  1.]\n",
      "   [ 1.  1.  1.]]]]\n",
      "[[[[ 1.  1.  1.]\n",
      "   [ 1.  1.  1.]\n",
      "   [ 1.  1.  1.]]\n",
      "\n",
      "  [[ 5.  4.  5.]\n",
      "   [ 1.  4.  1.]\n",
      "   [ 1.  4.  1.]]]\n",
      "\n",
      "\n",
      " [[[ 3.  1.  1.]\n",
      "   [ 3.  2.  2.]\n",
      "   [ 3.  1.  1.]]\n",
      "\n",
      "  [[ 1.  1.  1.]\n",
      "   [ 1.  1.  1.]\n",
      "   [ 1.  1.  1.]]]]\n"
     ]
    }
   ],
   "source": [
    "check = np.ones((2,2,3,3))\n",
    "check[1,0,1,:] = 2\n",
    "check[1,0,:,2] = 3\n",
    "check[0,1,2,:] = 5\n",
    "check[0,1,:,1] = 4\n",
    "print check\n",
    "#print np.rot90(check[0],2)\n",
    "for i in range(check.shape[0]):\n",
    "    for j in range(check.shape[1]):\n",
    "        check[i,j] =  np.rot90(check[i,j],2)\n",
    "print check\n",
    "# print np.pad(check, 1,'constant')[1:-1]"
   ]
  },
  {
   "cell_type": "code",
   "execution_count": 67,
   "metadata": {
    "collapsed": false
   },
   "outputs": [
    {
     "name": "stdout",
     "output_type": "stream",
     "text": [
      "6\n",
      "5\n"
     ]
    }
   ],
   "source": [
    "def ch(a):\n",
    "    return [a*2,a+2]\n",
    "[pl, che] = ch(3)\n",
    "print pl\n",
    "print che"
   ]
  },
  {
   "cell_type": "code",
   "execution_count": 3,
   "metadata": {
    "collapsed": false
   },
   "outputs": [],
   "source": [
    "net = cnn()\n",
    "mnist = scio.loadmat('data/mnist_big.mat')"
   ]
  },
  {
   "cell_type": "code",
   "execution_count": 4,
   "metadata": {
    "collapsed": false
   },
   "outputs": [],
   "source": [
    "inp = mnist['X_train'][1:10]/255.0\n",
    "inpD = []\n",
    "for item in inp:\n",
    "    inpD.append(item.reshape(28, 28))"
   ]
  },
  {
   "cell_type": "code",
   "execution_count": 5,
   "metadata": {
    "collapsed": false
   },
   "outputs": [
    {
     "name": "stdout",
     "output_type": "stream",
     "text": [
      "0.882935285568\n",
      "[ 0.09906194  0.09906194  0.09906194  0.1058324   0.09919455  0.10017085\n",
      "  0.10036422  0.09906194  0.09906194  0.09912829]\n"
     ]
    }
   ],
   "source": [
    "avg = 0\n",
    "start = time.time()\n",
    "for item in inpD:\n",
    "    check = net.forward(item)\n",
    "avg += time.time() - start\n",
    "start = time.time()\n",
    "for item in inpD:\n",
    "    check = net.forward(item)\n",
    "avg += time.time() - start\n",
    "start = time.time()\n",
    "for item in inpD:\n",
    "    check = net.forward(item)\n",
    "avg += time.time() - start\n",
    "\n",
    "print avg\n",
    "print check"
   ]
  }
 ],
 "metadata": {
  "kernelspec": {
   "display_name": "Python 2",
   "language": "python",
   "name": "python2"
  },
  "language_info": {
   "codemirror_mode": {
    "name": "ipython",
    "version": 2
   },
   "file_extension": ".py",
   "mimetype": "text/x-python",
   "name": "python",
   "nbconvert_exporter": "python",
   "pygments_lexer": "ipython2",
   "version": "2.7.6"
  }
 },
 "nbformat": 4,
 "nbformat_minor": 0
}
