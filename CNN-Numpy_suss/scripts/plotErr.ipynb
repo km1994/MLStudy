{
 "cells": [
  {
   "cell_type": "code",
   "execution_count": 1,
   "metadata": {
    "collapsed": true
   },
   "outputs": [],
   "source": [
    "import sys\n",
    "import fileinput\n",
    "import matplotlib\n",
    "import matplotlib.pyplot as plt\n",
    "import numpy as np"
   ]
  },
  {
   "cell_type": "code",
   "execution_count": 2,
   "metadata": {
    "collapsed": true
   },
   "outputs": [],
   "source": [
    "data = []\n",
    "\n",
    "for line in fileinput.input('../logs/10_0.01_train.log'):\n",
    "    data.append(line[:-1].split(' '))\n",
    "\n",
    "x = []\n",
    "y = []\n",
    "\n",
    "for item in data:\n",
    "    x.append(int(item[0]))\n",
    "    y.append(float(item[1]))"
   ]
  },
  {
   "cell_type": "code",
   "execution_count": 14,
   "metadata": {
    "collapsed": false
   },
   "outputs": [],
   "source": [
    "data = []\n",
    "\n",
    "for line in fileinput.input('../logs/10_0.01_val.log'):\n",
    "    data.append(line[:-1].split(' '))\n",
    "\n",
    "a = []\n",
    "b = []\n",
    "c = []\n",
    "d = []\n",
    "for item in data:\n",
    "    a.append(int(item[0])*10)\n",
    "    b.append(float(item[2]))\n",
    "    c.append(int(item[0]))\n",
    "    d.append(float(item[4]))"
   ]
  },
  {
   "cell_type": "code",
   "execution_count": 15,
   "metadata": {
    "collapsed": true
   },
   "outputs": [],
   "source": [
    "# plt.plot(x,y, label='Training Error')\n",
    "# plt.plot(a,b, label='Validation Error')\n",
    "plt.plot(c,d, label='Accuracy')\n",
    "plt.legend()\n",
    "plt.show()"
   ]
  }
 ],
 "metadata": {
  "kernelspec": {
   "display_name": "Python 2",
   "language": "python",
   "name": "python2"
  },
  "language_info": {
   "codemirror_mode": {
    "name": "ipython",
    "version": 2
   },
   "file_extension": ".py",
   "mimetype": "text/x-python",
   "name": "python",
   "nbconvert_exporter": "python",
   "pygments_lexer": "ipython2",
   "version": "2.7.6"
  }
 },
 "nbformat": 4,
 "nbformat_minor": 0
}
