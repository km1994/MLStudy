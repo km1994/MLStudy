{
 "cells": [
  {
   "cell_type": "code",
   "execution_count": 16,
   "metadata": {
    "collapsed": false
   },
   "outputs": [],
   "source": [
    "import numpy as np\n",
    "from scipy import signal,ndimage\n",
    "import scipy.io as scio\n",
    "import sys\n",
    "sys.path.append('../src/')\n",
    "from convnet import cnn\n",
    "import time\n",
    "from matplotlib import pyplot as plt\n",
    "import matplotlib as mpl\n",
    "from back import *\n",
    "from fwd import *\n",
    "from tsne import bh_sne\n",
    "\n",
    "mnist = scio.loadmat('../data/mnist_big.mat')\n",
    "trainData = mnist['X_train']\n",
    "trainLabel = mnist['Y_train']\n",
    "\n",
    "mnist2D = scio.loadmat('../data/mnist_2D.mat')\n",
    "trainData2d = mnist2D['X_train']"
   ]
  },
  {
   "cell_type": "code",
   "execution_count": 45,
   "metadata": {
    "collapsed": false
   },
   "outputs": [],
   "source": [
    "model = scio.loadmat('../models/10_0.01_model.mat')"
   ]
  },
  {
   "cell_type": "code",
   "execution_count": 94,
   "metadata": {
    "collapsed": false
   },
   "outputs": [],
   "source": [
    "net = cnn()\n",
    "net.Weights = np.asarray(model['weights'][0])\n",
    "for i in range(5):\n",
    "    net.Biases[i] = model['biases'][0][i][0]\n",
    "num = 1000\n",
    "featureData = []\n",
    "for i in range(num):\n",
    "    featureData.append(net.forward(trainData2d[i]))\n",
    "featureData = np.asarray(featureData)"
   ]
  },
  {
   "cell_type": "code",
   "execution_count": 97,
   "metadata": {
    "collapsed": false
   },
   "outputs": [],
   "source": [
    "# x_data = np.asarray(trainData).astype('float64')\n",
    "# x_data = x_data.reshape((x_data.shape[0], -1))\n",
    "\n",
    "x_data = np.asarray(featureData).astype('float64')\n",
    "x_data = x_data.reshape((x_data.shape[0], -1))\n",
    "\n",
    "n = num\n",
    "x_data = x_data[:n]\n",
    "y_data = trainLabel[:n]\n",
    "\n",
    "# perform t-SNE embedding\n",
    "vis_data = bh_sne(x_data)\n",
    "\n",
    "# plot the result\n",
    "vis_x = vis_data[:, 0]\n",
    "vis_y = vis_data[:, 1]\n",
    "\n",
    "plt.scatter(vis_x, vis_y, c=y_data, cmap=plt.cm.get_cmap(\"jet\", 10))\n",
    "plt.colorbar(ticks=range(10))\n",
    "plt.clim(-0.5, 9.5)\n",
    "plt.show()"
   ]
  }
 ],
 "metadata": {
  "kernelspec": {
   "display_name": "Python 2",
   "language": "python",
   "name": "python2"
  },
  "language_info": {
   "codemirror_mode": {
    "name": "ipython",
    "version": 2
   },
   "file_extension": ".py",
   "mimetype": "text/x-python",
   "name": "python",
   "nbconvert_exporter": "python",
   "pygments_lexer": "ipython2",
   "version": "2.7.6"
  }
 },
 "nbformat": 4,
 "nbformat_minor": 0
}
