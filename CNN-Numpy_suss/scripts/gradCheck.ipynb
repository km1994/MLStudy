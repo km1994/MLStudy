{
 "cells": [
  {
   "cell_type": "code",
   "execution_count": 1,
   "metadata": {
    "collapsed": false
   },
   "outputs": [],
   "source": [
    "import numpy as np\n",
    "from scipy import signal,ndimage\n",
    "import scipy.io as scio\n",
    "import sys\n",
    "sys.path.append('src/')\n",
    "from convnet import cnn\n",
    "import time\n",
    "from matplotlib import pyplot as plt\n",
    "import matplotlib as mpl\n",
    "from back import *\n",
    "from fwd import *\n",
    "\n",
    "###################################################################\n",
    "# Set the n_inputs and numClasses Params in config.py according \n",
    "# to trainData and trainLabel\n",
    "###################################################################\n",
    "mnist = scio.loadmat('data/mnist_2D.mat')\n",
    "trainData = mnist['X_train'][0]\n",
    "trainLabel = mnist['Y_train'][0]\n",
    "\n",
    "#assert(len(trainData) == config.n_inputs),'Set the Params in config.py according to Input in this script'\n",
    "#assert(len(trainLabel) == config.numClasses),'Set the Params in config.py'\n",
    "\n",
    "# n_inputs = config.n_inputs\n",
    "# numClasses = config.numClasses\n",
    "temp = np.zeros(10)\n",
    "temp[trainLabel]  = 1\n",
    "trainLabel = temp"
   ]
  },
  {
   "cell_type": "code",
   "execution_count": 2,
   "metadata": {
    "collapsed": false
   },
   "outputs": [],
   "source": [
    "net = cnn()"
   ]
  },
  {
   "cell_type": "code",
   "execution_count": 3,
   "metadata": {
    "collapsed": false
   },
   "outputs": [],
   "source": [
    "net.forward(trainData)\n",
    "[loss, dW0] = net.backward(np.asarray([trainData]), np.asarray([trainLabel]))\n",
    "dW0 = dW0.flatten()"
   ]
  },
  {
   "cell_type": "code",
   "execution_count": 4,
   "metadata": {
    "collapsed": false
   },
   "outputs": [],
   "source": [
    "num = 50\n",
    "# num = len(dW0)\n",
    "j = 4\n",
    "x=[]\n",
    "for i in range(num):\n",
    "    x.append(i)\n",
    "y= []\n",
    "z= []"
   ]
  },
  {
   "cell_type": "code",
   "execution_count": 5,
   "metadata": {
    "collapsed": false
   },
   "outputs": [],
   "source": [
    "\n",
    "epsi = 1e-04\n",
    "W0 = net.Weights[j].flatten()\n",
    "# W0 = net.Biases[j].flatten()\n",
    "temp = W0\n",
    "# for i in range(len(temp)):\n",
    "for i in range(num):\n",
    "\n",
    "    base = temp[i]\n",
    "    base += epsi\n",
    "    W0[i] = base\n",
    "    net.Weights[j] = W0.reshape(net.Weights[j].shape)\n",
    "#     net.Biases[j] = W0.reshape(net.Biases[j].shape)\n",
    "    \n",
    "    one = net.trloss(trainData, trainLabel)\n",
    "    \n",
    "    base = temp[i]\n",
    "    base -= epsi\n",
    "    W0[i] = base\n",
    "    net.Weights[j] = W0.reshape(net.Weights[j].shape)\n",
    "#     net.Biases[j] = W0.reshape(net.Biases[j].shape)\n",
    "    \n",
    "    two = net.trloss(trainData, trainLabel)\n",
    "\n",
    "    W0[i] = temp[i]\n",
    "    \n",
    "    val1 = dW0[i]\n",
    "    val2 = (one-two)/(2*epsi)\n",
    "    y.append(val1)\n",
    "    z.append(val2)  "
   ]
  },
  {
   "cell_type": "code",
   "execution_count": 8,
   "metadata": {
    "collapsed": false
   },
   "outputs": [],
   "source": [
    "a =plt.plot(x,np.asarray(y)-np.asarray(z), label = 'Difference')\n",
    "# b =plt.plot(x,z , label = 'Ideal')\n",
    "# c= plt.plot(x,np.asarray(y)/2, label = 'Actual')\n",
    "plt.legend()\n",
    "plt.show()"
   ]
  }
 ],
 "metadata": {
  "kernelspec": {
   "display_name": "Python 2",
   "language": "python",
   "name": "python2"
  },
  "language_info": {
   "codemirror_mode": {
    "name": "ipython",
    "version": 2
   },
   "file_extension": ".py",
   "mimetype": "text/x-python",
   "name": "python",
   "nbconvert_exporter": "python",
   "pygments_lexer": "ipython2",
   "version": "2.7.6"
  }
 },
 "nbformat": 4,
 "nbformat_minor": 0
}
