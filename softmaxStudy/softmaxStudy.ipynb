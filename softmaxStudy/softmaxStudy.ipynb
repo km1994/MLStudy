{
 "cells": [
  {
   "cell_type": "code",
   "execution_count": 1,
   "metadata": {},
   "outputs": [
    {
     "data": {
      "text/plain": [
       "'\\n    @Author: King\\n    @Date: 2019.05.16\\n    @Purpose: softmax 算法学习与实现\\n    @Introduction:  softmax 算法学习与实现\\n    @Datasets: \\n    @Link : \\n    @Reference : https://mp.weixin.qq.com/s?__biz=MzAxMTU5Njg4NQ==&mid=100001925&idx=5&sn=20c5ead4f4b5f8f88c30043fb3703557&chksm=1bbfedbf2cc864a96b5fc4575e09294478f6f4cff65d654b8d775fed78766f80faf333d8ca08&scene=20&xtrack=1#rd\\n'"
      ]
     },
     "execution_count": 1,
     "metadata": {},
     "output_type": "execute_result"
    }
   ],
   "source": [
    "# encoding = utf8\n",
    "'''\n",
    "    @Author: King\n",
    "    @Date: 2019.05.16\n",
    "    @Purpose: softmax 算法学习与实现\n",
    "    @Introduction:  softmax 算法学习与实现\n",
    "    @Datasets: \n",
    "    @Link : \n",
    "    @Reference : https://mp.weixin.qq.com/s?__biz=MzAxMTU5Njg4NQ==&mid=100001925&idx=5&sn=20c5ead4f4b5f8f88c30043fb3703557&chksm=1bbfedbf2cc864a96b5fc4575e09294478f6f4cff65d654b8d775fed78766f80faf333d8ca08&scene=20&xtrack=1#rd\n",
    "'''"
   ]
  },
  {
   "cell_type": "markdown",
   "metadata": {},
   "source": [
    "## 一、什么是Softmax？\n",
    "\n",
    "Softmax 在机器学习和深度学习中有着非常广泛的应用。尤其在处理多分类（C > 2）问题，分类器最后的输出单元需要Softmax 函数进行数值处理。关于Softmax 函数的定义如下所示：\n",
    "\n",
    "![](../img/softmax.webp)\n",
    "\n",
    "其中，Vi 是分类器前级输出单元的输出。i 表示类别索引，总的类别个数为 C。Si 表示的是当前元素的指数与所有元素指数和的比值。Softmax 将多分类的输出数值转化为相对概率，更容易理解和比较。我们来看下面这个例子。\n",
    "\n",
    "一个多分类问题，C = 4。线性分类器模型最后输出层包含了四个输出值，分别是：\n",
    "\n",
    "![](../img/softmaxdemoval.webp)\n",
    "\n",
    "经过Softmax处理后，数值转化为相对概率：\n",
    "\n",
    "![](../img/softmaxval.webp)\n",
    "\n",
    "很明显，Softmax 的输出表征了不同类别之间的相对概率。我们可以清晰地看出，S1 = 0.8390，对应的概率最大，则更清晰地可以判断预测为第1类的可能性更大。Softmax 将连续数值转化成相对概率，更有利于我们理解。\n",
    "\n",
    "实际应用中，使用 Softmax 需要注意数值溢出的问题。因为有指数运算，如果 V 数值很大，经过指数运算后的数值往往可能有溢出的可能。所以，需要对 V 进行一些数值处理：即 V 中的每个元素减去 V 中的最大值。\n",
    "\n",
    "![](../img/softmax_max.webp)\n",
    "\n",
    "相应的python示例代码如下："
   ]
  },
  {
   "cell_type": "code",
   "execution_count": 8,
   "metadata": {},
   "outputs": [
    {
     "name": "stdout",
     "output_type": "stream",
     "text": [
      "old scores:[123 456 789]\n",
      "new scores:[-666 -333    0]\n",
      "p:[5.75274406e-290 2.39848787e-145 1.00000000e+000]\n"
     ]
    }
   ],
   "source": [
    "import numpy as np\n",
    "\n",
    "scores = np.array([123, 456, 789])    # example with 3 classes and each having large scores\n",
    "print(\"old scores:{0}\".format(scores))\n",
    "\n",
    "scores -= np.max(scores)    # scores becomes [-666, -333, 0]\n",
    "print(\"new scores:{0}\".format(scores))\n",
    "p = np.exp(scores) / np.sum(np.exp(scores))\n",
    "\n",
    "print(\"p:{0}\".format(p))"
   ]
  },
  {
   "cell_type": "code",
   "execution_count": null,
   "metadata": {},
   "outputs": [],
   "source": []
  }
 ],
 "metadata": {
  "kernelspec": {
   "display_name": "Python 3",
   "language": "python",
   "name": "python3"
  },
  "language_info": {
   "codemirror_mode": {
    "name": "ipython",
    "version": 3
   },
   "file_extension": ".py",
   "mimetype": "text/x-python",
   "name": "python",
   "nbconvert_exporter": "python",
   "pygments_lexer": "ipython3",
   "version": "3.6.3"
  }
 },
 "nbformat": 4,
 "nbformat_minor": 2
}
